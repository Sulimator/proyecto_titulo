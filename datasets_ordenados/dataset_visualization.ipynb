{
 "cells": [
  {
   "cell_type": "code",
   "execution_count": 2,
   "id": "78823238",
   "metadata": {},
   "outputs": [],
   "source": [
    "import pandas as pd\n",
    "import numpy as np\n",
    "import matplotlib.pyplot as plt\n",
    "from astropy.visualization import ImageNormalize, ZScaleInterval"
   ]
  },
  {
   "cell_type": "code",
   "execution_count": 5,
   "id": "cda7d631",
   "metadata": {},
   "outputs": [],
   "source": [
    "df_bimodal = pd.read_pickle('dataset_bimodal.pkl')"
   ]
  },
  {
   "cell_type": "code",
   "execution_count": 7,
   "id": "29b020cb",
   "metadata": {},
   "outputs": [
    {
     "data": {
      "text/plain": [
       "(32888, 12)"
      ]
     },
     "execution_count": 7,
     "metadata": {},
     "output_type": "execute_result"
    }
   ],
   "source": [
    "df_bimodal.head()\n",
    "df_bimodal.shape"
   ]
  },
  {
   "cell_type": "code",
   "execution_count": null,
   "id": "1eb7eb9b",
   "metadata": {},
   "outputs": [],
   "source": [
    "# Esta función permite graficar las imágenes ciencia, referencia y diferencia del ejemplo deseado\n",
    "# Los parametros de entrada se presentan a continuación\n",
    "# df: dataset del cual se quiere extraer la información\n",
    "# clase: la clase de la cual se quiere ver el ejemplo\n",
    "# number: el número de ejemplo a gráficar\n",
    "\n",
    "def graf_sci_ref_dif(df, clase, number):\n",
    "\n",
    "    filtro_agn = df[df['class'] == clase]\n",
    "    fila = filtro_agn.iloc[number]\n",
    "\n",
    "    # Extraer datos\n",
    "    science = np.array(fila['science'])\n",
    "    reference = np.array(fila['reference'])\n",
    "    diff = np.array(fila['diff'])\n",
    "    oid = fila['oid']\n",
    "    clase = fila['class']\n",
    "\n",
    "    # Crear normalización con ZScale (ajuste automático de contraste)\n",
    "    norm = ImageNormalize(interval=ZScaleInterval())\n",
    "\n",
    "    # Crear la figura y los ejes\n",
    "    fig, axes = plt.subplots(1, 3, figsize=(15, 5), sharex=True, sharey=True)\n",
    "\n",
    "    # Nombres de las imágenes\n",
    "    titulos = [\"Science\", \"Reference\", \"Difference\"]\n",
    "\n",
    "    # Graficar cada imagen\n",
    "    for ax, img, title in zip(axes, [science, reference, diff], titulos):\n",
    "        im = ax.imshow(img, cmap='inferno', origin='lower', norm=norm)\n",
    "        ax.set_title(title, fontsize=14)\n",
    "        ax.set_xticks([])\n",
    "        ax.set_yticks([])\n",
    "\n",
    "    # Agregar barra de color fuera de la imagen\n",
    "    cbar_ax = fig.add_axes([0.92, 0.25, 0.02, 0.5])  # [pos_x, pos_y, ancho, alto]\n",
    "    cbar = fig.colorbar(im, cax=cbar_ax)\n",
    "    cbar.set_label(\"Intensidad\", fontsize=12)\n",
    "\n",
    "    # Agregar título general con OID y clase\n",
    "    plt.suptitle(f\"OID: {oid} | Clase: {clase}\", fontsize=16, fontweight='bold')\n",
    "\n",
    "    plt.tight_layout(rect=[0, 0, 0.9, 1])  # Ajuste para no solapar el título\n",
    "    return plt.show()\n",
    "\n"
   ]
  }
 ],
 "metadata": {
  "kernelspec": {
   "display_name": "venv",
   "language": "python",
   "name": "python3"
  },
  "language_info": {
   "codemirror_mode": {
    "name": "ipython",
    "version": 3
   },
   "file_extension": ".py",
   "mimetype": "text/x-python",
   "name": "python",
   "nbconvert_exporter": "python",
   "pygments_lexer": "ipython3",
   "version": "3.12.3"
  }
 },
 "nbformat": 4,
 "nbformat_minor": 5
}
